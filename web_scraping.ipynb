{
 "cells": [
  {
   "cell_type": "code",
   "execution_count": 1,
   "id": "437f7966-86bc-4d12-8812-c6a83cf8dab6",
   "metadata": {},
   "outputs": [],
   "source": [
    "import requests\n",
    "from bs4 import BeautifulSoup\n",
    "import pandas as pd"
   ]
  },
  {
   "cell_type": "code",
   "execution_count": 4,
   "id": "7ad33687-2518-4137-87eb-e68044d9ae2e",
   "metadata": {},
   "outputs": [],
   "source": [
    "# Step 1: Target website\n",
    "url = \"https://books.toscrape.com/catalogue/page-1.html\""
   ]
  },
  {
   "cell_type": "code",
   "execution_count": 5,
   "id": "7c1ddaf7-8ed7-4965-ac89-edf3c275c796",
   "metadata": {},
   "outputs": [],
   "source": [
    "# Lists to store data\n",
    "book_titles = []\n",
    "book_prices = []\n",
    "book_ratings = []"
   ]
  },
  {
   "cell_type": "code",
   "execution_count": 8,
   "id": "d4ff0156-e9c5-4d10-80fb-c37711182d52",
   "metadata": {},
   "outputs": [
    {
     "name": "stdout",
     "output_type": "stream",
     "text": [
      "✅ Web scraping completed successfully! 200 books saved as 'books_data.csv'\n"
     ]
    },
    {
     "data": {
      "text/html": [
       "<div>\n",
       "<style scoped>\n",
       "    .dataframe tbody tr th:only-of-type {\n",
       "        vertical-align: middle;\n",
       "    }\n",
       "\n",
       "    .dataframe tbody tr th {\n",
       "        vertical-align: top;\n",
       "    }\n",
       "\n",
       "    .dataframe thead th {\n",
       "        text-align: right;\n",
       "    }\n",
       "</style>\n",
       "<table border=\"1\" class=\"dataframe\">\n",
       "  <thead>\n",
       "    <tr style=\"text-align: right;\">\n",
       "      <th></th>\n",
       "      <th>Title</th>\n",
       "      <th>Price (£)</th>\n",
       "      <th>Rating</th>\n",
       "    </tr>\n",
       "  </thead>\n",
       "  <tbody>\n",
       "    <tr>\n",
       "      <th>0</th>\n",
       "      <td>A Light in the Attic</td>\n",
       "      <td>51.77</td>\n",
       "      <td>Three</td>\n",
       "    </tr>\n",
       "    <tr>\n",
       "      <th>1</th>\n",
       "      <td>A Light in the Attic</td>\n",
       "      <td>53.74</td>\n",
       "      <td>One</td>\n",
       "    </tr>\n",
       "    <tr>\n",
       "      <th>2</th>\n",
       "      <td>Tipping the Velvet</td>\n",
       "      <td>50.10</td>\n",
       "      <td>One</td>\n",
       "    </tr>\n",
       "    <tr>\n",
       "      <th>3</th>\n",
       "      <td>Soumission</td>\n",
       "      <td>47.82</td>\n",
       "      <td>Four</td>\n",
       "    </tr>\n",
       "    <tr>\n",
       "      <th>4</th>\n",
       "      <td>Sharp Objects</td>\n",
       "      <td>54.23</td>\n",
       "      <td>Five</td>\n",
       "    </tr>\n",
       "  </tbody>\n",
       "</table>\n",
       "</div>"
      ],
      "text/plain": [
       "                  Title  Price (£) Rating\n",
       "0  A Light in the Attic      51.77  Three\n",
       "1  A Light in the Attic      53.74    One\n",
       "2    Tipping the Velvet      50.10    One\n",
       "3            Soumission      47.82   Four\n",
       "4         Sharp Objects      54.23   Five"
      ]
     },
     "execution_count": 8,
     "metadata": {},
     "output_type": "execute_result"
    }
   ],
   "source": [
    "for page in range(1, 6):  # Scrape first 5 pages\n",
    "    url = f\"https://books.toscrape.com/catalogue/page-{page}.html\"\n",
    "    response = requests.get(url)\n",
    "    response.encoding = 'utf-8'\n",
    "    soup = BeautifulSoup(response.text, \"html.parser\")\n",
    "\n",
    "    books = soup.find_all(\"article\", class_=\"product_pod\")\n",
    "\n",
    "    for book in books:\n",
    "        try:\n",
    "            # Extract title\n",
    "            title = book.h3.a[\"title\"]\n",
    "\n",
    "            # Extract price (handle encoding)\n",
    "            price_text = book.find(\"p\", class_=\"price_color\").text\n",
    "            price_text = price_text.encode('ascii', 'ignore').decode()  # remove special chars\n",
    "            price = price_text.replace(\"£\", \"\").strip()\n",
    "\n",
    "            # Extract rating\n",
    "            rating = book.p[\"class\"][1]\n",
    "\n",
    "            # Append only if all fields exist\n",
    "            if title and price and rating:\n",
    "                book_titles.append(title)\n",
    "                book_prices.append(float(price))\n",
    "                book_ratings.append(rating)\n",
    "\n",
    "        except Exception as e:\n",
    "            # Skip book if any field missing or parsing fails\n",
    "            print(f\"Skipped one book due to error: {e}\")\n",
    "            continue\n",
    "\n",
    "# Ensure all lists have equal length\n",
    "min_len = min(len(book_titles), len(book_prices), len(book_ratings))\n",
    "data = pd.DataFrame({\n",
    "    \"Title\": book_titles[:min_len],\n",
    "    \"Price (£)\": book_prices[:min_len],\n",
    "    \"Rating\": book_ratings[:min_len]\n",
    "})\n",
    "\n",
    "# Save CSV\n",
    "data.to_csv(\"books_data.csv\", index=False, encoding='utf-8-sig')\n",
    "\n",
    "print(f\"✅ Web scraping completed successfully! {len(data)} books saved as 'books_data.csv'\")\n",
    "data.head()"
   ]
  },
  {
   "cell_type": "code",
   "execution_count": null,
   "id": "6e8fe1d9-16c2-41d4-8508-1d0505c35c72",
   "metadata": {},
   "outputs": [],
   "source": []
  }
 ],
 "metadata": {
  "kernelspec": {
   "display_name": "Python 3 (ipykernel)",
   "language": "python",
   "name": "python3"
  },
  "language_info": {
   "codemirror_mode": {
    "name": "ipython",
    "version": 3
   },
   "file_extension": ".py",
   "mimetype": "text/x-python",
   "name": "python",
   "nbconvert_exporter": "python",
   "pygments_lexer": "ipython3",
   "version": "3.13.5"
  }
 },
 "nbformat": 4,
 "nbformat_minor": 5
}
